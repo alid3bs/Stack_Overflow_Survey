{
 "cells": [
  {
   "cell_type": "markdown",
   "id": "f5fa71c3",
   "metadata": {},
   "source": [
    "## import libraries"
   ]
  },
  {
   "cell_type": "code",
   "execution_count": 96,
   "id": "066bad78",
   "metadata": {},
   "outputs": [],
   "source": [
    "import numpy as np\n",
    "import pandas as pd"
   ]
  },
  {
   "cell_type": "markdown",
   "id": "632091df",
   "metadata": {},
   "source": [
    "## read dataset"
   ]
  },
  {
   "cell_type": "code",
   "execution_count": 97,
   "id": "63a70e16",
   "metadata": {},
   "outputs": [
    {
     "data": {
      "text/plain": [
       "ResponseId                                                                   5988\n",
       "MainBranch                                         I am a developer by profession\n",
       "Employment                                                     Employed full-time\n",
       "Country                                                               Netherlands\n",
       "US_State                                                                      NaN\n",
       "UK_Country                                                                    NaN\n",
       "EdLevel                           Master’s degree (M.A., M.S., M.Eng., MBA, etc.)\n",
       "Age1stCode                                                          18 - 24 years\n",
       "LearnCode                       Other online resources (ex: videos, blogs, etc...\n",
       "YearsCode                                                                      28\n",
       "YearsCodePro                                                                   23\n",
       "DevType                         Developer, full-stack;Database administrator;D...\n",
       "OrgSize                                                        20 to 99 employees\n",
       "Currency                                                        EUR European Euro\n",
       "CompTotal                                                                 70000.0\n",
       "CompFreq                                                                   Yearly\n",
       "LanguageHaveWorkedWith                                 C#;HTML/CSS;JavaScript;SQL\n",
       "LanguageWantToWorkWith                                          C#;JavaScript;SQL\n",
       "DatabaseHaveWorkedWith                                       Microsoft SQL Server\n",
       "DatabaseWantToWorkWith                                       Microsoft SQL Server\n",
       "PlatformHaveWorkedWith                                                        NaN\n",
       "PlatformWantToWorkWith                                                        NaN\n",
       "WebframeHaveWorkedWith                               ASP.NET;ASP.NET Core ;jQuery\n",
       "WebframeWantToWorkWith                               ASP.NET;ASP.NET Core ;jQuery\n",
       "MiscTechHaveWorkedWith                          .NET Framework;.NET Core / .NET 5\n",
       "MiscTechWantToWorkWith                          .NET Framework;.NET Core / .NET 5\n",
       "ToolsTechHaveWorkedWith                                                       NaN\n",
       "ToolsTechWantToWorkWith                                                       NaN\n",
       "NEWCollabToolsHaveWorkedWith                                        Visual Studio\n",
       "NEWCollabToolsWantToWorkWith                                        Visual Studio\n",
       "OpSys                                                                     Windows\n",
       "NEWStuck                        Call a coworker or friend;Visit Stack Overflow...\n",
       "NEWSOSites                                                         Stack Overflow\n",
       "SOVisitFreq                                                Multiple times per day\n",
       "SOAccount                                                                     Yes\n",
       "SOPartFreq                                    Less than once per month or monthly\n",
       "SOComm                                                              Yes, somewhat\n",
       "NEWOtherComms                                                                  No\n",
       "Age                                                               45-54 years old\n",
       "Gender                                                                        Man\n",
       "Trans                                                                          No\n",
       "Sexuality                                                 Straight / Heterosexual\n",
       "Ethnicity                                            White or of European descent\n",
       "Accessibility                                                   None of the above\n",
       "MentalHealth                                                    None of the above\n",
       "SurveyLength                                                Appropriate in length\n",
       "SurveyEase                                                                   Easy\n",
       "ConvertedCompYearly                                                       75669.0\n",
       "Name: 5987, dtype: object"
      ]
     },
     "execution_count": 97,
     "metadata": {},
     "output_type": "execute_result"
    }
   ],
   "source": [
    "data = pd.read_csv('../Data/survey_results_public.csv')\n",
    "\n",
    "data.sample(5).iloc[0]"
   ]
  },
  {
   "cell_type": "markdown",
   "id": "5f0337b3",
   "metadata": {},
   "source": [
    "## Functions to split data of columns into list"
   ]
  },
  {
   "cell_type": "code",
   "execution_count": 98,
   "id": "5bd92d86",
   "metadata": {},
   "outputs": [],
   "source": [
    "# select columns that has multiple answers inside it\n",
    "def select_columns(data, delimiter):\n",
    "    selected_col = []\n",
    "\n",
    "    for c in data.select_dtypes(include=['object']).columns:\n",
    "        if data[c].str.contains(delimiter).any():\n",
    "            selected_col.append(c)\n",
    "\n",
    "    return selected_col\n",
    "\n",
    " # ----------------- # \n",
    "\n",
    "# function to split data inside selected columns\n",
    "def split_columns(data, delimiter): \n",
    "    selected_col = select_columns(data, delimiter)\n",
    "    \n",
    "    for c in selected_col:\n",
    "        data[c] = data[c].str.split(delimiter)\n",
    "    \n",
    "    return data\n",
    "    "
   ]
  },
  {
   "cell_type": "markdown",
   "id": "69410367",
   "metadata": {},
   "source": [
    "## preprocess dataset"
   ]
  },
  {
   "cell_type": "code",
   "execution_count": 99,
   "id": "1ca314f1",
   "metadata": {},
   "outputs": [],
   "source": [
    "data_after_split = split_columns(data, ';')\n",
    "\n",
    "# check that data is correctly splited\n",
    "#data_after_split.sample(1).iloc[0]"
   ]
  },
  {
   "cell_type": "markdown",
   "id": "c961a643",
   "metadata": {},
   "source": [
    "## save new data in a pickkle file"
   ]
  },
  {
   "cell_type": "code",
   "execution_count": 102,
   "id": "d8f9f5b2",
   "metadata": {},
   "outputs": [],
   "source": [
    "data_after_split.to_pickle('../Data/preprocess/data_preprocessed.pkl')"
   ]
  },
  {
   "cell_type": "code",
   "execution_count": null,
   "id": "3bec3a7d",
   "metadata": {},
   "outputs": [],
   "source": []
  }
 ],
 "metadata": {
  "kernelspec": {
   "display_name": "Python 3 (ipykernel)",
   "language": "python",
   "name": "python3"
  },
  "language_info": {
   "codemirror_mode": {
    "name": "ipython",
    "version": 3
   },
   "file_extension": ".py",
   "mimetype": "text/x-python",
   "name": "python",
   "nbconvert_exporter": "python",
   "pygments_lexer": "ipython3",
   "version": "3.9.7"
  }
 },
 "nbformat": 4,
 "nbformat_minor": 5
}
